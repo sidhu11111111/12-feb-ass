{
 "cells": [
  {
   "cell_type": "markdown",
   "id": "507829a6",
   "metadata": {},
   "source": [
    "#QNO.1 ANS \n",
    " In Python, an exception is an error that occurs while executing a program. Whenever an error occurs, Python creates an exception object. If the exception is not handled by the program, then it will terminate the program execution.\n",
    "\n",
    "The main differences between Exceptions and Syntax errors are:\n",
    "\n",
    "Syntax errors occur during the parsing of code, while exceptions occur during program execution.\n",
    "Syntax errors are usually caused by missing colons, commas, or parentheses, whereas exceptions can occur due to a variety of reasons such as zero division, file not found, etc.\n",
    "Syntax errors are detected by the interpreter before the program runs, whereas exceptions are detected during program execution."
   ]
  },
  {
   "cell_type": "markdown",
   "id": "e62807e5",
   "metadata": {},
   "source": [
    "#QNO.2"
   ]
  },
  {
   "cell_type": "code",
   "execution_count": 1,
   "id": "7cb55125",
   "metadata": {},
   "outputs": [
    {
     "name": "stdout",
     "output_type": "stream",
     "text": [
      "Enter first number: 0\n",
      "Enter second number: 3\n",
      "The result is: 0.0\n"
     ]
    }
   ],
   "source": [
    "num1 = int(input(\"Enter first number: \"))\n",
    "num2 = int(input(\"Enter second number: \"))\n",
    "result = num1/num2\n",
    "print(\"The result is:\", result)\n"
   ]
  },
  {
   "cell_type": "markdown",
   "id": "2593789f",
   "metadata": {},
   "source": [
    "#QNO.3 ANS\n",
    "In Python, the try and except statements are used to handle exceptions. The raise statement is used to raise an exception."
   ]
  },
  {
   "cell_type": "code",
   "execution_count": 3,
   "id": "e08a0c70",
   "metadata": {},
   "outputs": [
    {
     "name": "stdout",
     "output_type": "stream",
     "text": [
      "Enter first number: 3\n",
      "Enter second number: 0\n",
      "Error: Division by zero\n"
     ]
    }
   ],
   "source": [
    "try:\n",
    "    num1 = int(input(\"Enter first number: \"))\n",
    "    num2 = int(input(\"Enter second number: \"))\n",
    "    result = num1/num2\n",
    "    print(\"The result is:\", result)\n",
    "except ZeroDivisionError:\n",
    "    print(\"Error: Division by zero\")\n"
   ]
  },
  {
   "cell_type": "markdown",
   "id": "736efde1",
   "metadata": {},
   "source": [
    "#QNO.4 ANS\n",
    " The try, except, else, finally, and raise statements are used to handle exceptions. The try statement is used to execute the code that may raise an exception. The except statement is used to catch and handle the exception. The else statement is used to execute the code when no exception occurs. The finally statement is used to execute the code regardless of whether an exception occurs or not. The raise statement is used to raise an exception manually."
   ]
  },
  {
   "cell_type": "code",
   "execution_count": 4,
   "id": "5597c8f6",
   "metadata": {},
   "outputs": [
    {
     "name": "stdout",
     "output_type": "stream",
     "text": [
      "Enter first number: 8\n",
      "Enter second number: 0\n",
      "Error: Division by zero\n",
      "Execution completed\n",
      "Enter your age: 18\n"
     ]
    }
   ],
   "source": [
    "try:\n",
    "    num1 = int(input(\"Enter first number: \"))\n",
    "    num2 = int(input(\"Enter second number: \"))\n",
    "    result = num1/num2\n",
    "except ZeroDivisionError:\n",
    "    print(\"Error: Division by zero\")\n",
    "else:\n",
    "    print(\"The result is:\", result)\n",
    "finally:\n",
    "    print(\"Execution completed\")\n",
    "\n",
    "# raise an exception manually\n",
    "try:\n",
    "    age = int(input(\"Enter your age: \"))\n",
    "    if age < 18:\n",
    "        raise ValueError(\"You must be 18 or older to vote\")\n",
    "except ValueError as e:\n",
    "    print(e)\n"
   ]
  },
  {
   "cell_type": "markdown",
   "id": "207613b2",
   "metadata": {},
   "source": [
    "#QNO.5 ANS\n",
    "Custom exceptions are user-defined exceptions in Python. These exceptions are created to handle specific errors that may occur in a program. They are defined using the class keyword and inherit from the Exception class.\n",
    "\n",
    "We need custom exceptions in Python because built-in exceptions may not always cover all the specific cases in our program. By creating our own custom exceptions, we can handle specific errors more easily and with more clarity.\n",
    "\n",
    "For example, let's say we are writing a program that reads data from a file and we want to raise an exception if the file is not found. We can create a custom exception called FileNotFound that inherits from the Exception class and use it to handle this specific error."
   ]
  },
  {
   "cell_type": "code",
   "execution_count": 5,
   "id": "4b9d5ec7",
   "metadata": {},
   "outputs": [
    {
     "ename": "FileNotFound",
     "evalue": "data.txt not found.",
     "output_type": "error",
     "traceback": [
      "\u001b[1;31m---------------------------------------------------------------------------\u001b[0m",
      "\u001b[1;31mFileNotFoundError\u001b[0m                         Traceback (most recent call last)",
      "\u001b[1;32m~\\AppData\\Local\\Temp\\ipykernel_6476\\2121346951.py\u001b[0m in \u001b[0;36m<module>\u001b[1;34m\u001b[0m\n\u001b[0;32m      6\u001b[0m \u001b[1;32mtry\u001b[0m\u001b[1;33m:\u001b[0m\u001b[1;33m\u001b[0m\u001b[1;33m\u001b[0m\u001b[0m\n\u001b[1;32m----> 7\u001b[1;33m     \u001b[1;32mwith\u001b[0m \u001b[0mopen\u001b[0m\u001b[1;33m(\u001b[0m\u001b[0mfilename\u001b[0m\u001b[1;33m,\u001b[0m \u001b[1;34m\"r\"\u001b[0m\u001b[1;33m)\u001b[0m \u001b[1;32mas\u001b[0m \u001b[0mfile\u001b[0m\u001b[1;33m:\u001b[0m\u001b[1;33m\u001b[0m\u001b[1;33m\u001b[0m\u001b[0m\n\u001b[0m\u001b[0;32m      8\u001b[0m         \u001b[0mdata\u001b[0m \u001b[1;33m=\u001b[0m \u001b[0mfile\u001b[0m\u001b[1;33m.\u001b[0m\u001b[0mread\u001b[0m\u001b[1;33m(\u001b[0m\u001b[1;33m)\u001b[0m\u001b[1;33m\u001b[0m\u001b[1;33m\u001b[0m\u001b[0m\n",
      "\u001b[1;31mFileNotFoundError\u001b[0m: [Errno 2] No such file or directory: 'data.txt'",
      "\nDuring handling of the above exception, another exception occurred:\n",
      "\u001b[1;31mFileNotFound\u001b[0m                              Traceback (most recent call last)",
      "\u001b[1;32m~\\AppData\\Local\\Temp\\ipykernel_6476\\2121346951.py\u001b[0m in \u001b[0;36m<module>\u001b[1;34m\u001b[0m\n\u001b[0;32m      8\u001b[0m         \u001b[0mdata\u001b[0m \u001b[1;33m=\u001b[0m \u001b[0mfile\u001b[0m\u001b[1;33m.\u001b[0m\u001b[0mread\u001b[0m\u001b[1;33m(\u001b[0m\u001b[1;33m)\u001b[0m\u001b[1;33m\u001b[0m\u001b[1;33m\u001b[0m\u001b[0m\n\u001b[0;32m      9\u001b[0m \u001b[1;32mexcept\u001b[0m \u001b[0mFileNotFoundError\u001b[0m\u001b[1;33m:\u001b[0m\u001b[1;33m\u001b[0m\u001b[1;33m\u001b[0m\u001b[0m\n\u001b[1;32m---> 10\u001b[1;33m     \u001b[1;32mraise\u001b[0m \u001b[0mFileNotFound\u001b[0m\u001b[1;33m(\u001b[0m\u001b[1;34mf\"{filename} not found.\"\u001b[0m\u001b[1;33m)\u001b[0m\u001b[1;33m\u001b[0m\u001b[1;33m\u001b[0m\u001b[0m\n\u001b[0m",
      "\u001b[1;31mFileNotFound\u001b[0m: data.txt not found."
     ]
    }
   ],
   "source": [
    "class FileNotFound(Exception):\n",
    "    pass\n",
    "\n",
    "filename = \"data.txt\"\n",
    "\n",
    "try:\n",
    "    with open(filename, \"r\") as file:\n",
    "        data = file.read()\n",
    "except FileNotFoundError:\n",
    "    raise FileNotFound(f\"{filename} not found.\")\n"
   ]
  },
  {
   "cell_type": "markdown",
   "id": "e7529c7f",
   "metadata": {},
   "source": [
    "#QNO.6 ANS"
   ]
  },
  {
   "cell_type": "code",
   "execution_count": 6,
   "id": "a19f45a6",
   "metadata": {},
   "outputs": [
    {
     "name": "stdout",
     "output_type": "stream",
     "text": [
      "Number cannot be negative\n"
     ]
    }
   ],
   "source": [
    "class NegativeNumberError(Exception):\n",
    "    def __init__(self, message=\"Number cannot be negative\"):\n",
    "        self.message = message\n",
    "        super().__init__(self.message)\n",
    "\n",
    "def square_root(num):\n",
    "    if num < 0:\n",
    "        raise NegativeNumberError\n",
    "    else:\n",
    "        return num ** 0.5\n",
    "\n",
    "try:\n",
    "    print(square_root(-9))\n",
    "except NegativeNumberError as e:\n",
    "    print(e.message)\n"
   ]
  },
  {
   "cell_type": "code",
   "execution_count": null,
   "id": "e3b238ea",
   "metadata": {},
   "outputs": [],
   "source": []
  }
 ],
 "metadata": {
  "kernelspec": {
   "display_name": "Python 3 (ipykernel)",
   "language": "python",
   "name": "python3"
  },
  "language_info": {
   "codemirror_mode": {
    "name": "ipython",
    "version": 3
   },
   "file_extension": ".py",
   "mimetype": "text/x-python",
   "name": "python",
   "nbconvert_exporter": "python",
   "pygments_lexer": "ipython3",
   "version": "3.9.13"
  }
 },
 "nbformat": 4,
 "nbformat_minor": 5
}
